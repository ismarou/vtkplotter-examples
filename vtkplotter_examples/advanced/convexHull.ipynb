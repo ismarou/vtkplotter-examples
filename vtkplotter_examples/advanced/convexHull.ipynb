{
 "cells": [
  {
   "cell_type": "code",
   "execution_count": 1,
   "metadata": {},
   "outputs": [
    {
     "name": "stdout",
     "output_type": "stream",
     "text": [
      "embedWindow(verbose=True): could not load k3d module, try:\n",
      "> pip install k3d      # and if necessary:\n",
      "> conda install nodejs\n",
      " vtkplotter 2019.5.0  | vtk 8.1.2 | python 3.7 | press h for help. \n"
     ]
    },
    {
     "data": {
      "text/plain": [
       "<vtkplotter.plotter.Plotter at 0x104b47750>"
      ]
     },
     "execution_count": 1,
     "metadata": {},
     "output_type": "execute_result"
    }
   ],
   "source": [
    "from vtkplotter import *\n",
    "\n",
    "spid = load(datadir+\"spider.ply\")\n",
    "\n",
    "scalars = spid.points()[:,2] # take the z coordinates of vertices as scalars\n",
    "\n",
    "spid.pointColors(scalars, cmap='afmhot_r') # use those scalar to color the mesh\n",
    "\n",
    "chull = convexHull(spid).c(\"black\").alpha(0.2).wireframe()\n",
    "\n",
    "show(spid, chull)"
   ]
  },
  {
   "cell_type": "code",
   "execution_count": null,
   "metadata": {},
   "outputs": [],
   "source": []
  }
 ],
 "metadata": {
  "kernelspec": {
   "display_name": "Python 3",
   "language": "python",
   "name": "python3"
  },
  "language_info": {
   "codemirror_mode": {
    "name": "ipython",
    "version": 3
   },
   "file_extension": ".py",
   "mimetype": "text/x-python",
   "name": "python",
   "nbconvert_exporter": "python",
   "pygments_lexer": "ipython3",
   "version": "3.7.4"
  }
 },
 "nbformat": 4,
 "nbformat_minor": 2
}

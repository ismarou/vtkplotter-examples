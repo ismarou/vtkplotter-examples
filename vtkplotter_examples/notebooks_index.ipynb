{
 "cells": [
  {
   "cell_type": "markdown",
   "metadata": {},
   "source": [
    "# Notebooks Examples Index\n"
   ]
  },
  {
   "cell_type": "code",
   "execution_count": 1,
   "metadata": {},
   "outputs": [
    {
     "data": {
      "text/markdown": [
       "- <a href='advanced/convexHull.ipynb' target='_blank'>advanced/convexHull.ipynb</a>\n",
       "- <a href='advanced/thinplate_grid.ipynb' target='_blank'>advanced/thinplate_grid.ipynb</a>\n",
       "- <a href='basic/align1.ipynb' target='_blank'>basic/align1.ipynb</a>\n",
       "- <a href='basic/align2.ipynb' target='_blank'>basic/align2.ipynb</a>\n",
       "- <a href='basic/buildmesh.ipynb' target='_blank'>basic/buildmesh.ipynb</a>\n",
       "- <a href='basic/clustering.ipynb' target='_blank'>basic/clustering.ipynb</a>\n",
       "- <a href='basic/connVtx.ipynb' target='_blank'>basic/connVtx.ipynb</a>\n",
       "- <a href='basic/distance2mesh.ipynb' target='_blank'>basic/distance2mesh.ipynb</a>\n",
       "- <a href='basic/fitline.ipynb' target='_blank'>basic/fitline.ipynb</a>\n",
       "- <a href='basic/mirror.ipynb' target='_blank'>basic/mirror.ipynb</a>\n",
       "- <a href='basic/noname.ipynb' target='_blank'>basic/noname.ipynb</a>\n",
       "- <a href='basic/pca.ipynb' target='_blank'>basic/pca.ipynb</a>\n",
       "- <a href='basic/shadow.ipynb' target='_blank'>basic/shadow.ipynb</a>\n",
       "- <a href='basic/shrink.ipynb' target='_blank'>basic/shrink.ipynb</a>\n",
       "- <a href='notebooks/draw_points.ipynb' target='_blank'>notebooks/draw_points.ipynb</a>\n",
       "- <a href='notebooks/embryo.ipynb' target='_blank'>notebooks/embryo.ipynb</a>\n",
       "- <a href='notebooks/manipulate_camera.ipynb' target='_blank'>notebooks/manipulate_camera.ipynb</a>\n",
       "- <a href='notebooks/sphere.ipynb' target='_blank'>notebooks/sphere.ipynb</a>\n",
       "- <a href='notebooks/test_itkwidgets.ipynb' target='_blank'>notebooks/test_itkwidgets.ipynb</a>\n",
       "- <a href='other/printc.ipynb' target='_blank'>other/printc.ipynb</a>\n",
       "- <a href='other/qt_window.ipynb' target='_blank'>other/qt_window.ipynb</a>\n",
       "- <a href='other/sierpinski.ipynb' target='_blank'>other/sierpinski.ipynb</a>\n",
       "- <a href='other/value-iteration.ipynb' target='_blank'>other/value-iteration.ipynb</a>\n",
       "- <a href='simulations/gray_scott.ipynb' target='_blank'>simulations/gray_scott.ipynb</a>\n",
       "- <a href='simulations/volterra.ipynb' target='_blank'>simulations/volterra.ipynb</a>\n",
       "- <a href='volumetric/interpolateVolume.ipynb' target='_blank'>volumetric/interpolateVolume.ipynb</a>\n",
       "- <a href='volumetric/isosurfaces2.ipynb' target='_blank'>volumetric/isosurfaces2.ipynb</a>\n",
       "- <a href='volumetric/legosurface.ipynb' target='_blank'>volumetric/legosurface.ipynb</a>\n",
       "- <a href='volumetric/numpy2volume.ipynb' target='_blank'>volumetric/numpy2volume.ipynb</a>\n",
       "- <a href='volumetric/office.ipynb' target='_blank'>volumetric/office.ipynb</a>\n",
       "- <a href='volumetric/probeLine.ipynb' target='_blank'>volumetric/probeLine.ipynb</a>\n",
       "- <a href='volumetric/streamlines2.ipynb' target='_blank'>volumetric/streamlines2.ipynb</a>\n",
       "- <a href='volumetric/streamribbons.ipynb' target='_blank'>volumetric/streamribbons.ipynb</a>\n",
       "- <a href='volumetric/tensors.ipynb' target='_blank'>volumetric/tensors.ipynb</a>"
      ],
      "text/plain": [
       "<IPython.core.display.Markdown object>"
      ]
     },
     "execution_count": 1,
     "metadata": {},
     "output_type": "execute_result"
    }
   ],
   "source": [
    "from IPython.display import Markdown\n",
    "from glob import glob\n",
    "\n",
    "l1 = \"\\n\".join([\"- <a href='{1}' target='_blank'>{0}</a>\".format(x,x) for x in sorted(glob(\"*/*.ipynb\"))])\n",
    "Markdown(l1)"
   ]
  },
  {
   "cell_type": "markdown",
   "metadata": {},
   "source": [
    "# *pyplot* and *trimesh* Example Index"
   ]
  },
  {
   "cell_type": "code",
   "execution_count": 2,
   "metadata": {},
   "outputs": [
    {
     "data": {
      "text/markdown": [
       "-  <a href='other/trimesh/first_example.ipynb' target='_blank'>other/trimesh/first_example.ipynb</a>\n",
       "-  <a href='other/trimesh/ray.ipynb' target='_blank'>other/trimesh/ray.ipynb</a>\n",
       "-  <a href='other/trimesh/section.ipynb' target='_blank'>other/trimesh/section.ipynb</a>\n",
       "-  <a href='other/trimesh/shortest.ipynb' target='_blank'>other/trimesh/shortest.ipynb</a>\n",
       "-  <a href='pyplot/notebooks/customAxes.ipynb' target='_blank'>pyplot/notebooks/customAxes.ipynb</a>\n",
       "-  <a href='pyplot/notebooks/histo_1D.ipynb' target='_blank'>pyplot/notebooks/histo_1D.ipynb</a>\n",
       "-  <a href='pyplot/notebooks/histo_2D.ipynb' target='_blank'>pyplot/notebooks/histo_2D.ipynb</a>\n",
       "-  <a href='pyplot/notebooks/histo_polar.ipynb' target='_blank'>pyplot/notebooks/histo_polar.ipynb</a>\n",
       "-  <a href='pyplot/notebooks/latex.ipynb' target='_blank'>pyplot/notebooks/latex.ipynb</a>\n",
       "-  <a href='pyplot/notebooks/plot1_errbars.ipynb' target='_blank'>pyplot/notebooks/plot1_errbars.ipynb</a>\n",
       "-  <a href='pyplot/notebooks/plot2_errband.ipynb' target='_blank'>pyplot/notebooks/plot2_errband.ipynb</a>\n",
       "-  <a href='pyplot/notebooks/plot4_fxy.ipynb' target='_blank'>pyplot/notebooks/plot4_fxy.ipynb</a>\n",
       "-  <a href='pyplot/notebooks/plot5_spheric.ipynb' target='_blank'>pyplot/notebooks/plot5_spheric.ipynb</a>\n",
       "-  <a href='pyplot/notebooks/plot6_polar.ipynb' target='_blank'>pyplot/notebooks/plot6_polar.ipynb</a>\n",
       "-  <a href='pyplot/notebooks/quiver.ipynb' target='_blank'>pyplot/notebooks/quiver.ipynb</a>\n",
       "-  <a href='pyplot/notebooks/scatter1.ipynb' target='_blank'>pyplot/notebooks/scatter1.ipynb</a>\n",
       "-  <a href='pyplot/notebooks/scatter2.ipynb' target='_blank'>pyplot/notebooks/scatter2.ipynb</a>\n",
       "-  <a href='pyplot/notebooks/scatter3.ipynb' target='_blank'>pyplot/notebooks/scatter3.ipynb</a>"
      ],
      "text/plain": [
       "<IPython.core.display.Markdown object>"
      ]
     },
     "execution_count": 2,
     "metadata": {},
     "output_type": "execute_result"
    }
   ],
   "source": [
    "l2 = \"\\n\".join([\"-  <a href='{1}' target='_blank'>{0}</a>\".format(x,x) for x in sorted(glob(\"*/*/*.ipynb\"))])\n",
    "Markdown(l2)"
   ]
  },
  {
   "cell_type": "code",
   "execution_count": null,
   "metadata": {},
   "outputs": [],
   "source": []
  },
  {
   "cell_type": "code",
   "execution_count": null,
   "metadata": {},
   "outputs": [],
   "source": []
  }
 ],
 "metadata": {
  "kernelspec": {
   "display_name": "Python 3",
   "language": "python",
   "name": "python3"
  },
  "language_info": {
   "codemirror_mode": {
    "name": "ipython",
    "version": 3
   },
   "file_extension": ".py",
   "mimetype": "text/x-python",
   "name": "python",
   "nbconvert_exporter": "python",
   "pygments_lexer": "ipython3",
   "version": "3.7.4"
  }
 },
 "nbformat": 4,
 "nbformat_minor": 1
}

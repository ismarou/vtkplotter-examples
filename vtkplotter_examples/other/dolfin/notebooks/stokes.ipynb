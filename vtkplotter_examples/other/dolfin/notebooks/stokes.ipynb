{
 "cells": [
  {
   "cell_type": "code",
   "execution_count": 1,
   "metadata": {},
   "outputs": [
    {
     "data": {
      "application/vnd.jupyter.widget-view+json": {
       "model_id": "3f3178b5d4a4480aa2b50da5dd26cb38",
       "version_major": 2,
       "version_minor": 0
      },
      "text/plain": [
       "Viewer(cmap='jet', geometries=[{'vtkClass': 'vtkPolyData', 'points': {'vtkClass': 'vtkPoints', 'name': '_point…"
      ]
     },
     "metadata": {},
     "output_type": "display_data"
    }
   ],
   "source": [
    "\"\"\" This demo solves the Stokes equations, using quadratic elements for\n",
    "the velocity and first degree elements for the pressure (Taylor-Hood elements).\"\"\"\n",
    "# Credits: https://github.com/pf4d/fenics_scripts/blob/master/cbc_block/stokes.py\n",
    "from dolfin import *\n",
    "from time import time\n",
    "from vtkplotter.dolfin import datadir\n",
    "\n",
    "# Load mesh and subdomains\n",
    "mesh = Mesh(datadir+\"dolfin_fine.xml\")\n",
    "sub_domains = MeshFunction(\"size_t\", mesh, datadir+\"dolfin_fine_subdomains.xml.gz\")\n",
    "\n",
    "# Define function spaces\n",
    "P2 = VectorElement(\"Lagrange\", mesh.ufl_cell(), 2)\n",
    "P1 = FiniteElement(\"Lagrange\", mesh.ufl_cell(), 1)\n",
    "TH = P2 * P1\n",
    "W = FunctionSpace(mesh, TH)\n",
    "\n",
    "# No-slip boundary condition for velocity\n",
    "noslip = Constant((0, 0))\n",
    "bc0 = DirichletBC(W.sub(0), noslip, sub_domains, 0)\n",
    "\n",
    "# Inflow boundary condition for velocity\n",
    "inflow = Expression((\"-sin(x[1]*pi)\", \"0.0\"), degree=2)\n",
    "bc1 = DirichletBC(W.sub(0), inflow, sub_domains, 1)\n",
    "bcs = [bc0, bc1]\n",
    "\n",
    "# Define variational problem\n",
    "(u, p) = TrialFunctions(W)\n",
    "(v, q) = TestFunctions(W)\n",
    "f = Constant((0, 0))\n",
    "a = (inner(grad(u), grad(v)) - div(v)*p + q*div(u))*dx\n",
    "L = inner(f, v)*dx\n",
    "w = Function(W)\n",
    "\n",
    "solve(a == L, w, bcs) #solver_parameters={'linear_solver':'mumps'}\n",
    "(u, p) = w.split() # Split the mixed solution using a shallow copy\n",
    "\n",
    "######################################################## vtkplotter:\n",
    "from vtkplotter.dolfin import plot, embedWindow\n",
    "\n",
    "embedWindow('itkwidgets') # backends are: itkwidgets, k3d or False\n",
    "\n",
    "plot(u, mode='mesh and arrows', warpZfactor=-0.05, scale=0.02)"
   ]
  },
  {
   "cell_type": "code",
   "execution_count": null,
   "metadata": {},
   "outputs": [],
   "source": []
  }
 ],
 "metadata": {
  "kernelspec": {
   "display_name": "Python 3",
   "language": "python",
   "name": "python3"
  },
  "language_info": {
   "codemirror_mode": {
    "name": "ipython",
    "version": 3
   },
   "file_extension": ".py",
   "mimetype": "text/x-python",
   "name": "python",
   "nbconvert_exporter": "python",
   "pygments_lexer": "ipython3",
   "version": "3.7.4"
  }
 },
 "nbformat": 4,
 "nbformat_minor": 2
}

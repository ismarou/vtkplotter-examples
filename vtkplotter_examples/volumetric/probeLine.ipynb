{
 "cells": [
  {
   "cell_type": "code",
   "execution_count": 2,
   "metadata": {},
   "outputs": [
    {
     "data": {
      "application/vnd.jupyter.widget-view+json": {
       "model_id": "310222e9ed2b42faac31087c5aa15d49",
       "version_major": 2,
       "version_minor": 0
      },
      "text/plain": [
       "Plot(antialias=3, axes=['x', 'y', 'z'], background_color=16777215, camera=[4.5, 4.5, 4.5, 0.0, 0.0, 0.0, 1.0, …"
      ]
     },
     "metadata": {},
     "output_type": "display_data"
    }
   ],
   "source": [
    "\"\"\"\n",
    "Intersect a Volume (voxel dataset) with planes.\n",
    "\"\"\"\n",
    "from vtkplotter import show, load, probeLine, vector, Text, datadir\n",
    "\n",
    "vol = load(datadir+\"embryo.slc\")\n",
    "\n",
    "pos = vol.imagedata().GetCenter()\n",
    "\n",
    "lines = []\n",
    "for i in range(60):  # probe scalars on 60 parallel lines\n",
    "    step = (i - 30) * 2\n",
    "    p1, p2 = pos + vector(-100, step, step), pos + vector(100, step, step)\n",
    "    a = probeLine(vol, p1, p2, res=100)\n",
    "    a.alpha(0.5).lineWidth(6)\n",
    "    lines.append(a)\n",
    "    # print(a.scalars(0)) # numpy scalars can be access here\n",
    "    # print(a.scalars('vtkValidPointMask')) # the mask of valid points\n",
    "\n",
    "show(lines)"
   ]
  },
  {
   "cell_type": "code",
   "execution_count": null,
   "metadata": {},
   "outputs": [],
   "source": []
  }
 ],
 "metadata": {
  "kernelspec": {
   "display_name": "Python 3",
   "language": "python",
   "name": "python3"
  },
  "language_info": {
   "codemirror_mode": {
    "name": "ipython",
    "version": 3
   },
   "file_extension": ".py",
   "mimetype": "text/x-python",
   "name": "python",
   "nbconvert_exporter": "python",
   "pygments_lexer": "ipython3",
   "version": "3.6.8"
  }
 },
 "nbformat": 4,
 "nbformat_minor": 2
}

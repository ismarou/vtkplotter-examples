{
 "cells": [
  {
   "cell_type": "code",
   "execution_count": 1,
   "metadata": {},
   "outputs": [
    {
     "name": "stdout",
     "output_type": "stream",
     "text": [
      "\u001b[1m\u001b[31m=======================================================================\n",
      "| WARNING: Actor() is obsolete, use Mesh() instead, with same syntax. |\n",
      "=======================================================================\u001b[0m\n"
     ]
    },
    {
     "data": {
      "application/vnd.jupyter.widget-view+json": {
       "model_id": "92688d5073904b8f99deffb160d0a8e2",
       "version_major": 2,
       "version_minor": 0
      },
      "text/plain": [
       "Plot(antialias=3, axes=['x', 'y', 'z'], axes_helper=1.0, background_color=16777215, camera=[20.779741283164306…"
      ]
     },
     "metadata": {},
     "output_type": "display_data"
    }
   ],
   "source": [
    "\"\"\"Load an existing vtkStructuredGrid and draw the streamlines of the velocity field\"\"\"\n",
    "\n",
    "import vtk\n",
    "from vtkplotter import *\n",
    "\n",
    "######################## vtk\n",
    "# Read the data and specify which scalars and vectors to read.\n",
    "pl3d = vtk.vtkMultiBlockPLOT3DReader()\n",
    "pl3d.SetXYZFileName(datadir+\"combxyz.bin\")\n",
    "pl3d.SetQFileName(datadir+\"combq.bin\")\n",
    "pl3d.SetScalarFunctionNumber(100)\n",
    "pl3d.SetVectorFunctionNumber(202)\n",
    "pl3d.Update()\n",
    "# this vtkStructuredData already has a vector field:\n",
    "domain = pl3d.GetOutput().GetBlock(0)\n",
    "\n",
    "######################## vtkplotter\n",
    "box = Mesh(domain, c=None, alpha=0.1)\n",
    "\n",
    "probe= Grid(pos=[9,0,30], normal=[1,0,0], sx=5, sy=5, resx=6, resy=6)\n",
    "probe.color('k')\n",
    "\n",
    "stream = streamLines(domain, probe, direction='backwards')\n",
    "\n",
    "show(stream, probe, box, viewup='z')"
   ]
  },
  {
   "cell_type": "code",
   "execution_count": null,
   "metadata": {},
   "outputs": [],
   "source": []
  }
 ],
 "metadata": {
  "kernelspec": {
   "display_name": "Python 3",
   "language": "python",
   "name": "python3"
  },
  "language_info": {
   "codemirror_mode": {
    "name": "ipython",
    "version": 3
   },
   "file_extension": ".py",
   "mimetype": "text/x-python",
   "name": "python",
   "nbconvert_exporter": "python",
   "pygments_lexer": "ipython3",
   "version": "3.7.4"
  }
 },
 "nbformat": 4,
 "nbformat_minor": 2
}

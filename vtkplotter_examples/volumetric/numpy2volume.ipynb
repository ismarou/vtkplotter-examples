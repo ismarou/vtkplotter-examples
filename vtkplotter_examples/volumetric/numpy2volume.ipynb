{
 "cells": [
  {
   "cell_type": "code",
   "execution_count": 1,
   "metadata": {},
   "outputs": [
    {
     "name": "stdout",
     "output_type": "stream",
     "text": [
      "scalar min, max = 0.0 1.0\n"
     ]
    },
    {
     "data": {
      "application/vnd.jupyter.widget-view+json": {
       "model_id": "884bf91fb6dc4413add52b6dc0574aba",
       "version_major": 2,
       "version_minor": 0
      },
      "text/plain": [
       "Viewer(cmap='jet', geometries=[{'vtkClass': 'vtkPolyData', 'points': {'vtkClass': 'vtkPoints', 'name': '_point…"
      ]
     },
     "metadata": {},
     "output_type": "display_data"
    }
   ],
   "source": [
    "# Make a Volume from a numpy object\n",
    "#\n",
    "from __future__ import print_function, division\n",
    "import numpy as np\n",
    "from vtkplotter import *\n",
    "embedWindow('itkwidgets') # backends are: itkwidgets, k3d or False\n",
    "\n",
    "X, Y, Z = np.mgrid[:30, :30, :30]\n",
    "# scaled distance from the center at (15, 15, 15)\n",
    "scalar_field = ((X-15)**2 + (Y-15)**2 + (Z-15)**2)/225/3\n",
    "print('scalar min, max =', np.min(scalar_field), np.max(scalar_field))\n",
    "\n",
    "vol = Volume(scalar_field)\n",
    "lego = vol.legosurface(vmin=.3, vmax=.6)\n",
    "\n",
    "#show(vol.c('magma'))\n",
    "show(lego)"
   ]
  },
  {
   "cell_type": "code",
   "execution_count": null,
   "metadata": {},
   "outputs": [],
   "source": []
  }
 ],
 "metadata": {
  "kernelspec": {
   "display_name": "Python 3",
   "language": "python",
   "name": "python3"
  },
  "language_info": {
   "codemirror_mode": {
    "name": "ipython",
    "version": 3
   },
   "file_extension": ".py",
   "mimetype": "text/x-python",
   "name": "python",
   "nbconvert_exporter": "python",
   "pygments_lexer": "ipython3",
   "version": "3.6.8"
  }
 },
 "nbformat": 4,
 "nbformat_minor": 2
}

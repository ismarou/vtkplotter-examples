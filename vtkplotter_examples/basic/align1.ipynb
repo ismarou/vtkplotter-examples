{
 "cells": [
  {
   "cell_type": "code",
   "execution_count": 1,
   "metadata": {},
   "outputs": [
    {
     "name": "stdout",
     "output_type": "stream",
     "text": [
      "\u001b[1m\u001b[32mave. squared distance = 51.36041618263591\u001b[0m\n",
      "\u001b[1mvtkTransform is available with getTransform():\n",
      "\u001b[0m\u001b[7m\u001b[1m[(vtkCommonTransformsPython.vtkLandmarkTransform)0x7fcf80924c90]\u001b[0m\n"
     ]
    },
    {
     "data": {
      "application/vnd.jupyter.widget-view+json": {
       "model_id": "ed88fb94a5aa41fca0b0d19d71a04181",
       "version_major": 2,
       "version_minor": 0
      },
      "text/plain": [
       "Viewer(cmap='jet', geometries=[{'vtkClass': 'vtkPolyData', 'points': {'vtkClass': 'vtkPoints', 'name': '_point…"
      ]
     },
     "metadata": {},
     "output_type": "display_data"
    }
   ],
   "source": [
    "\"\"\"\n",
    "Align 2 shapes and for each vertex of the first draw\n",
    "and arrow to the closest point of the second.\n",
    "The source transformation is accessible with getTransform()\n",
    "rigid=True doesn't allow scaling\n",
    "\"\"\"\n",
    "from vtkplotter import *\n",
    "\n",
    "embedWindow('itkwidgets') # or k3d or:\n",
    "#embedWindow(False)# then press Esc to close the external window\n",
    "\n",
    "vp = Plotter()\n",
    "\n",
    "limb = vp.load(datadir + \"270.vtk\")\n",
    "rim  = vp.load(datadir + \"270_rim.vtk\").c(\"r\").lw(4)\n",
    "vp.show()\n",
    "\n",
    "arim = alignICP(rim, limb, rigid=True).c(\"g\").lw(5)\n",
    "vp += arim\n",
    "\n",
    "d = 0\n",
    "for p in arim.points():\n",
    "    cpt = limb.closestPoint(p)\n",
    "    d += mag2(p - cpt)  # square of residual distance\n",
    "\n",
    "printc(\"ave. squared distance =\", d / arim.N(), c=\"g\")\n",
    "printc(\"vtkTransform is available with getTransform():\\n\", end=\"\")\n",
    "printc([arim.getTransform()], invert=True)\n",
    "vp.show()"
   ]
  },
  {
   "cell_type": "code",
   "execution_count": null,
   "metadata": {},
   "outputs": [],
   "source": []
  }
 ],
 "metadata": {
  "kernelspec": {
   "display_name": "Python 3",
   "language": "python",
   "name": "python3"
  },
  "language_info": {
   "codemirror_mode": {
    "name": "ipython",
    "version": 3
   },
   "file_extension": ".py",
   "mimetype": "text/x-python",
   "name": "python",
   "nbconvert_exporter": "python",
   "pygments_lexer": "ipython3",
   "version": "3.7.4"
  }
 },
 "nbformat": 4,
 "nbformat_minor": 2
}

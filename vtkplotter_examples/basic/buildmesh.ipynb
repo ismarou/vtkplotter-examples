{
 "cells": [
  {
   "cell_type": "code",
   "execution_count": 1,
   "metadata": {},
   "outputs": [
    {
     "name": "stdout",
     "output_type": "stream",
     "text": [
      "\u001b[1mpoints():\n",
      " [[50 50 50]\n",
      " [70 40 50]\n",
      " [50 40 80]\n",
      " [80 70 50]]\u001b[0m\n",
      "\u001b[1mfaces(): \n",
      " [[0, 1, 2], [2, 1, 3], [1, 0, 3]]\u001b[0m\n"
     ]
    },
    {
     "data": {
      "application/vnd.jupyter.widget-view+json": {
       "model_id": "e4bee11242d34518b67b3558e6006859",
       "version_major": 2,
       "version_minor": 0
      },
      "text/plain": [
       "Plot(antialias=3, axes=['x', 'y', 'z'], axes_helper=1.0, background_color=16777215, camera=[65.51961524227066,…"
      ]
     },
     "metadata": {},
     "output_type": "display_data"
    }
   ],
   "source": [
    "\"\"\"Manually build a mesh.\"\"\"\n",
    "\n",
    "from vtkplotter import *\n",
    "\n",
    "#embedWindow('itkwidgets') # or k3d\n",
    "\n",
    "verts = [(50,50,50), (70,40,50), (50,40,80), (80,70,50)]\n",
    "faces = [(0,1,2), (2,1,3), (1,0,3)]\n",
    "# (the first triangle face is formed by vertex 0, 1 and 2)\n",
    "\n",
    "m = Mesh([verts, faces])\n",
    "\n",
    "# the way vertices are assembled into polygons can be retrieved\n",
    "# in two different formats:\n",
    "printc('points():\\n', m.points())\n",
    "printc('faces(): \\n', m.faces())\n",
    "\n",
    "m.show()"
   ]
  },
  {
   "cell_type": "code",
   "execution_count": null,
   "metadata": {},
   "outputs": [],
   "source": []
  }
 ],
 "metadata": {
  "kernelspec": {
   "display_name": "Python 3",
   "language": "python",
   "name": "python3"
  },
  "language_info": {
   "codemirror_mode": {
    "name": "ipython",
    "version": 3
   },
   "file_extension": ".py",
   "mimetype": "text/x-python",
   "name": "python",
   "nbconvert_exporter": "python",
   "pygments_lexer": "ipython3",
   "version": "3.7.4"
  }
 },
 "nbformat": 4,
 "nbformat_minor": 2
}

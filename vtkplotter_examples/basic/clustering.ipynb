{
 "cells": [
  {
   "cell_type": "markdown",
   "metadata": {},
   "source": [
    "\"\"\"\n",
    "Example usage of removeOutliers()\n",
    "and cluster() methods.\n",
    "\"\"\"\n",
    "from vtkplotter import show, cluster, removeOutliers, Text\n",
    "import numpy as np\n",
    "\n",
    "\n",
    "# generate 4 random sets of N points in space\n",
    "N = 2000\n",
    "f = 0.6\n",
    "noise1 = np.random.rand(N, 3) * f + np.array([1, 1, 0])\n",
    "noise2 = np.random.rand(N, 3) * f + np.array([1, 0, 1.2])\n",
    "noise3 = np.random.rand(N, 3) * f + np.array([0, 1, 1])\n",
    "noise4 = np.random.randn(N, 3)* f/8 + np.array([1, 1, 1])\n",
    "\n",
    "noise4 = removeOutliers(noise4, 0.05)\n",
    "\n",
    "# merge points to lose their identity\n",
    "pts = noise1.tolist() + noise2.tolist() + noise3.tolist() + noise4.tolist()\n",
    "\n",
    "# find back their identity through clustering\n",
    "cl = cluster(pts, radius=0.1)  # returns a vtkAssembly\n",
    "\n",
    "cl.show()"
   ]
  },
  {
   "cell_type": "code",
   "execution_count": null,
   "metadata": {},
   "outputs": [],
   "source": []
  }
 ],
 "metadata": {
  "kernelspec": {
   "display_name": "Python 3",
   "language": "python",
   "name": "python3"
  },
  "language_info": {
   "codemirror_mode": {
    "name": "ipython",
    "version": 3
   },
   "file_extension": ".py",
   "mimetype": "text/x-python",
   "name": "python",
   "nbconvert_exporter": "python",
   "pygments_lexer": "ipython3",
   "version": "3.7.4"
  }
 },
 "nbformat": 4,
 "nbformat_minor": 2
}

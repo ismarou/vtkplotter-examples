{
 "cells": [
  {
   "cell_type": "code",
   "execution_count": 1,
   "metadata": {},
   "outputs": [
    {
     "name": "stdout",
     "output_type": "stream",
     "text": [
      "Line Fit slope =  [0.49037496 0.65466485 0.57527936]\n",
      "Plan Fit normal= [ 0.79085449 -0.50207685 -0.3499543 ]\n"
     ]
    },
    {
     "data": {
      "application/vnd.jupyter.widget-view+json": {
       "model_id": "060e35b4686c4166bbdaf4f121fd2d5b",
       "version_major": 2,
       "version_minor": 0
      },
      "text/plain": [
       "Plot(antialias=3, axes=['x', 'y', 'z'], axes_helper=1.0, background_color=16777215, camera=[2.1640978364683727…"
      ]
     },
     "metadata": {},
     "output_type": "display_data"
    }
   ],
   "source": [
    "\"\"\"\n",
    "Usage example of fitLine() and fitPlane()\n",
    "\n",
    "Draw a line in 3D that fits a cloud of 20 Points,\n",
    "Show the first set of 20 points and fit a plane to them.\n",
    "\"\"\"\n",
    "from __future__ import division, print_function\n",
    "import numpy as np\n",
    "from vtkplotter import *\n",
    "\n",
    "# declare the class instance\n",
    "vp = Plotter()\n",
    "\n",
    "# draw 500 fit lines superimposed and very transparent\n",
    "for i in range(25):\n",
    "\n",
    "    x = np.linspace(-2, 5, 20)  # generate each time 20 points\n",
    "    y = np.linspace(1, 9, 20)\n",
    "    z = np.linspace(-5, 3, 20)\n",
    "    data = np.array(list(zip(x, y, z)))\n",
    "    data += np.random.normal(size=data.shape) * 0.8  # add gauss noise\n",
    "\n",
    "    vp += fitLine(data).lw(1)  # fit a line\n",
    "\n",
    "# 'data' still contains the last iteration points\n",
    "vp += Points(data, r=2, c=\"yellow\")\n",
    "\n",
    "# the first fitted slope direction is stored\n",
    "# in mesh.info['slope] and mesh.info['normal]\n",
    "print(\"Line Fit slope = \", vp.actors[0].info[\"slope\"])\n",
    "\n",
    "plane = fitPlane(data)  # fit a plane\n",
    "print(\"Plan Fit normal=\", plane.info[\"normal\"])\n",
    "\n",
    "vp += plane\n",
    "\n",
    "vp.show()"
   ]
  },
  {
   "cell_type": "code",
   "execution_count": null,
   "metadata": {},
   "outputs": [],
   "source": []
  }
 ],
 "metadata": {
  "kernelspec": {
   "display_name": "Python 3",
   "language": "python",
   "name": "python3"
  },
  "language_info": {
   "codemirror_mode": {
    "name": "ipython",
    "version": 3
   },
   "file_extension": ".py",
   "mimetype": "text/x-python",
   "name": "python",
   "nbconvert_exporter": "python",
   "pygments_lexer": "ipython3",
   "version": "3.7.4"
  }
 },
 "nbformat": 4,
 "nbformat_minor": 2
}

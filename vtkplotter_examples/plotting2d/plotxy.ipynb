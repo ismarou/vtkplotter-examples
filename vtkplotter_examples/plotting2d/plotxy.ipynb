{
 "cells": [
  {
   "cell_type": "code",
   "execution_count": 1,
   "metadata": {},
   "outputs": [
    {
     "data": {
      "application/vnd.jupyter.widget-view+json": {
       "model_id": "ee878847ce2c4542a8be26356c400026",
       "version_major": 2,
       "version_minor": 0
      },
      "text/plain": [
       "Plot(antialias=3, axes=['x', 'y', 'z'], axes_helper=1.0, background_color=16777215, camera=[5.137252069599637,…"
      ]
     },
     "metadata": {},
     "output_type": "display_data"
    }
   ],
   "source": [
    "from vtkplotter import plotxy, show\n",
    "import numpy as np\n",
    "\n",
    "x = np.arange(0, 10, 1)\n",
    "y = np.sin(x)\n",
    "\n",
    "plt1 = plotxy(\n",
    "    [x, y],\n",
    "    yscale=3, # set an optional scaling factor\n",
    "    xlimits=(-1, 11),\n",
    "    splined=False,\n",
    "    lc=\"r\",\n",
    "    marker=\"*\",\n",
    "    mc=\"dr\",\n",
    ")\n",
    "\n",
    "plt2 = plotxy(\n",
    "    [x+1, y+0.2],\n",
    "    yscale=3, # choose the same y-scale as above\n",
    "    splined=True,\n",
    "    lc=\"b\",\n",
    "    marker=\"D\",\n",
    ")\n",
    "\n",
    "show(plt1, plt2, axes=1)"
   ]
  },
  {
   "cell_type": "code",
   "execution_count": null,
   "metadata": {},
   "outputs": [],
   "source": []
  }
 ],
 "metadata": {
  "kernelspec": {
   "display_name": "Python 3",
   "language": "python",
   "name": "python3"
  },
  "language_info": {
   "codemirror_mode": {
    "name": "ipython",
    "version": 3
   },
   "file_extension": ".py",
   "mimetype": "text/x-python",
   "name": "python",
   "nbconvert_exporter": "python",
   "pygments_lexer": "ipython3",
   "version": "3.6.8"
  }
 },
 "nbformat": 4,
 "nbformat_minor": 2
}

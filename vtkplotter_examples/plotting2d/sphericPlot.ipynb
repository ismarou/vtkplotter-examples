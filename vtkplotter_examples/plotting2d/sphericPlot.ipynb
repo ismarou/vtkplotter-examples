{
 "cells": [
  {
   "cell_type": "code",
   "execution_count": 1,
   "metadata": {},
   "outputs": [
    {
     "data": {
      "application/vnd.jupyter.widget-view+json": {
       "model_id": "fbabeb434e4e4f91bad6deb32c51088d",
       "version_major": 2,
       "version_minor": 0
      },
      "text/plain": [
       "Plot(antialias=3, axes=['x', 'y', 'z'], axes_helper=1.0, background_color=16777215, camera=[0.1398105906377250…"
      ]
     },
     "metadata": {},
     "output_type": "display_data"
    }
   ],
   "source": [
    "\"\"\"Surface plotting in spherical coordinates\n",
    "\n",
    "spherical harmonic function is: Y(l=2, m=0) = 3*cos(theta)**2 - 1\n",
    "(red points are made NaN on purpose)\n",
    "\"\"\"\n",
    "import numpy as np\n",
    "from vtkplotter import *\n",
    "\n",
    "def rhofunc(theta, phi):\n",
    "    if theta < 0.2:\n",
    "        return np.nan # make some points invalid\n",
    "    #return cos(theta)**2                       # Y(l=1 m=0)\n",
    "    return (3*cos(theta)**2 - 1)**2             # Y(l=2 m=0)\n",
    "    #return (5*cos(theta)**3 - 3*cos(theta))**2 # Y(l=3 m=0)\n",
    "\n",
    "# Build the plot,\n",
    "#  return an Assembly of 3 meshes, the unit\n",
    "#  grid sphere, the surface rho(theta, phi) and\n",
    "#  the red Points where rho is a complex number:\n",
    "spl = sphericPlot(rhofunc, cmap='viridis')\n",
    "\n",
    "show(spl)"
   ]
  }
 ],
 "metadata": {
  "kernelspec": {
   "display_name": "Python 3",
   "language": "python",
   "name": "python3"
  },
  "language_info": {
   "codemirror_mode": {
    "name": "ipython",
    "version": 3
   },
   "file_extension": ".py",
   "mimetype": "text/x-python",
   "name": "python",
   "nbconvert_exporter": "python",
   "pygments_lexer": "ipython3",
   "version": "3.7.4"
  }
 },
 "nbformat": 4,
 "nbformat_minor": 2
}

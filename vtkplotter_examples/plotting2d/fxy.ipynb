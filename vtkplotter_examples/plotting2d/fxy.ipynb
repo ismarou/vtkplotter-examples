{
 "cells": [
  {
   "cell_type": "code",
   "execution_count": 1,
   "metadata": {},
   "outputs": [
    {
     "data": {
      "application/vnd.jupyter.widget-view+json": {
       "model_id": "92dcbfd3977140918a7b885cabd221ee",
       "version_major": 2,
       "version_minor": 0
      },
      "text/plain": [
       "Plot(antialias=3, axes=['x', 'y', 'z'], axes_helper=1.0, background_color=16777215, camera=[3.794147738309014,…"
      ]
     },
     "metadata": {},
     "output_type": "display_data"
    }
   ],
   "source": [
    "\"\"\"\n",
    "Draw a surface representing a 2-var function specified \n",
    "as a string or as a reference to an external existing function.\n",
    "\"\"\"\n",
    "from vtkplotter import Plotter, fxy, sin, cos\n",
    "\n",
    "def my_z(x, y):\n",
    "    return sin(2 * x * y) * cos(3 * y) / 2\n",
    "\n",
    "f1 = fxy(my_z, zlevels=0).c('lightblue')\n",
    "#f1 = fxy(\"sin(2*x*y)*cos(3*y)/2\", zlevels=0).c('lightblue')\n",
    "\n",
    "f1.show(viewup='z')"
   ]
  },
  {
   "cell_type": "code",
   "execution_count": null,
   "metadata": {},
   "outputs": [],
   "source": []
  }
 ],
 "metadata": {
  "kernelspec": {
   "display_name": "Python 3",
   "language": "python",
   "name": "python3"
  },
  "language_info": {
   "codemirror_mode": {
    "name": "ipython",
    "version": 3
   },
   "file_extension": ".py",
   "mimetype": "text/x-python",
   "name": "python",
   "nbconvert_exporter": "python",
   "pygments_lexer": "ipython3",
   "version": "3.7.4"
  }
 },
 "nbformat": 4,
 "nbformat_minor": 2
}

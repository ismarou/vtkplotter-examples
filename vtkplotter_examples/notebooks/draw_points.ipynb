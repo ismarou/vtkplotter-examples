{
 "cells": [
  {
   "cell_type": "code",
   "execution_count": 1,
   "metadata": {},
   "outputs": [
    {
     "data": {
      "application/vnd.jupyter.widget-view+json": {
       "model_id": "9a8e2f20326a4c239ffbf91f27ef6b20",
       "version_major": 2,
       "version_minor": 0
      },
      "text/plain": [
       "Plot(antialias=3, axes=['\\\\sum_i x_i', 'y', 'z'], axes_helper=1.0, background_color=16777215, camera=[0.201658…"
      ]
     },
     "metadata": {},
     "output_type": "display_data"
    }
   ],
   "source": [
    "from vtkplotter import *\n",
    "import numpy as np\n",
    "\n",
    "#embedWindow(False) #uncomment to pop the usual vtk rendering window, press Esc to close it.\n",
    "\n",
    "positions = np.random.randn(5000,3)\n",
    "scalars = np.sum(positions, axis=1)\n",
    "\n",
    "plot = Plotter()\n",
    "plot.xtitle = '\\sum_i x_i'\n",
    "\n",
    "points = Points(positions)\n",
    "\n",
    "# color vertices based on their scalar value with any matplotlib color map\n",
    "points.pointColors(scalars, cmap='coolwarm')\n",
    "plot += points\n",
    "\n",
    "plot.show()"
   ]
  },
  {
   "cell_type": "code",
   "execution_count": 2,
   "metadata": {},
   "outputs": [],
   "source": [
    "closePlotter()"
   ]
  },
  {
   "cell_type": "code",
   "execution_count": null,
   "metadata": {},
   "outputs": [],
   "source": []
  }
 ],
 "metadata": {
  "kernelspec": {
   "display_name": "Python 3",
   "language": "python",
   "name": "python3"
  },
  "language_info": {
   "codemirror_mode": {
    "name": "ipython",
    "version": 3
   },
   "file_extension": ".py",
   "mimetype": "text/x-python",
   "name": "python",
   "nbconvert_exporter": "python",
   "pygments_lexer": "ipython3",
   "version": "3.7.4"
  }
 },
 "nbformat": 4,
 "nbformat_minor": 2
}

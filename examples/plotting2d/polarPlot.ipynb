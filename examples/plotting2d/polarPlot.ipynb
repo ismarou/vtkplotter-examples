{
 "cells": [
  {
   "cell_type": "code",
   "execution_count": 9,
   "metadata": {},
   "outputs": [
    {
     "data": {
      "application/vnd.jupyter.widget-view+json": {
       "model_id": "8465d15ca93d4f33850e6b101e4cfb76",
       "version_major": 2,
       "version_minor": 0
      },
      "text/plain": [
       "Plot(antialias=3, axes=['x', 'y', 'z'], axes_helper=1.0, background_color=16777215, camera=[0.0089234133872519…"
      ]
     },
     "metadata": {},
     "output_type": "display_data"
    }
   ],
   "source": [
    "from vtkplotter import polarPlot, show\n",
    "import numpy as np\n",
    "\n",
    "title     = \"A (splined) polar plot\"\n",
    "angles    = [  0,  20,  60, 160, 200, 250, 300, 340]\n",
    "distances = [0.1, 0.2, 0.3, 0.5, 0.6, 0.4, 0.2, 0.1]\n",
    "\n",
    "dn1 = polarPlot([angles, distances], deg=True, spline=False,\n",
    "                c='green', alpha=0.5, title=title, vmax=0.6)\n",
    "\n",
    "dn2 = polarPlot([angles, np.array(distances)/2], deg=True,\n",
    "                c='tomato', alpha=1, showDisc=False, vmax=0.6)\n",
    "\n",
    "show(dn1, dn2, axes=None)"
   ]
  },
  {
   "cell_type": "code",
   "execution_count": null,
   "metadata": {},
   "outputs": [],
   "source": []
  }
 ],
 "metadata": {
  "kernelspec": {
   "display_name": "Python 3",
   "language": "python",
   "name": "python3"
  },
  "language_info": {
   "codemirror_mode": {
    "name": "ipython",
    "version": 3
   },
   "file_extension": ".py",
   "mimetype": "text/x-python",
   "name": "python",
   "nbconvert_exporter": "python",
   "pygments_lexer": "ipython3",
   "version": "3.6.8"
  }
 },
 "nbformat": 4,
 "nbformat_minor": 2
}

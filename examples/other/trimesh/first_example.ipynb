{
 "cells": [
  {
   "cell_type": "code",
   "execution_count": 1,
   "metadata": {},
   "outputs": [],
   "source": [
    "\"\"\"\n",
    "Trimesh support and interoperability module.\n",
    "\n",
    "Install trimesh with:\n",
    "> sudo apt install python3-rtree\n",
    "> pip install rtree shapely\n",
    "> conda install trimesh\n",
    "\n",
    "Check the example gallery at:\n",
    "    \n",
    "https://github.com/marcomusy/vtkplotter/tree/master/examples/other/trimesh\n",
    "\"\"\"\n",
    "import trimesh\n",
    "import vtkplotter\n",
    "from vtkplotter import trimesh2vtk, vtk2trimesh\n",
    "\n",
    "# uncomment this to pop a vtk rendering window instead of the K3D notebook backend\n",
    "vtkplotter.embedWindow(False)\n",
    "\n",
    "url = 'https://raw.githubusercontent.com/mikedh/trimesh/master/models/'\n",
    "filename = vtkplotter.download(url + 'machinist.XAML')\n",
    "\n",
    "mesh = trimesh.load(filename)\n"
   ]
  },
  {
   "cell_type": "code",
   "execution_count": 2,
   "metadata": {},
   "outputs": [
    {
     "name": "stdout",
     "output_type": "stream",
     "text": [
      " vtkplotter 2019.4.4  | vtk 8.1.2 | python 3.6 | press h for help. \n"
     ]
    }
   ],
   "source": [
    "actor = trimesh2vtk(mesh) # returns a Actor(vtkActor) object from Trimesh\n",
    "vtkplotter.show(mesh) # vtkplotter visualizer (conversion is on the fly)\n",
    "\n",
    "trimsh_reconverted = vtk2trimesh(actor)\n",
    "trimsh_reconverted.show() # this is the trimesh built-in visualizer\n",
    "\n",
    "# This closes the vtk rendering window. Use only if embedWindow(False)\n",
    "vtkplotter.closePlotter()"
   ]
  },
  {
   "cell_type": "code",
   "execution_count": null,
   "metadata": {},
   "outputs": [],
   "source": []
  }
 ],
 "metadata": {
  "kernelspec": {
   "display_name": "Python 3",
   "language": "python",
   "name": "python3"
  },
  "language_info": {
   "codemirror_mode": {
    "name": "ipython",
    "version": 3
   },
   "file_extension": ".py",
   "mimetype": "text/x-python",
   "name": "python",
   "nbconvert_exporter": "python",
   "pygments_lexer": "ipython3",
   "version": "3.6.8"
  }
 },
 "nbformat": 4,
 "nbformat_minor": 2
}

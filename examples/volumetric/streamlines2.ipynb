{
 "cells": [
  {
   "cell_type": "code",
   "execution_count": 2,
   "metadata": {},
   "outputs": [
    {
     "data": {
      "application/vnd.jupyter.widget-view+json": {
       "model_id": "419bf71b3240495e8311ccdfeebf2b22",
       "version_major": 2,
       "version_minor": 0
      },
      "text/plain": [
       "Plot(antialias=3, axes=['x', 'y', 'z'], background_color=16777215, camera=[20.779741283164306, 12.524741168723…"
      ]
     },
     "metadata": {},
     "output_type": "display_data"
    }
   ],
   "source": [
    "\"\"\"Load an existing vtkStructuredGrid and draw the streamlines of the velocity field\"\"\"\n",
    "\n",
    "import vtk\n",
    "from vtkplotter import *\n",
    "\n",
    "######################## vtk\n",
    "# Read the data and specify which scalars and vectors to read.\n",
    "pl3d = vtk.vtkMultiBlockPLOT3DReader()\n",
    "pl3d.SetXYZFileName(datadir+\"combxyz.bin\")\n",
    "pl3d.SetQFileName(datadir+\"combq.bin\")\n",
    "pl3d.SetScalarFunctionNumber(100)\n",
    "pl3d.SetVectorFunctionNumber(202)\n",
    "pl3d.Update()\n",
    "# this vtkStructuredData already has a vector field:\n",
    "domain = pl3d.GetOutput().GetBlock(0)\n",
    "\n",
    "######################## vtkplotter\n",
    "box = Actor(domain, c=None, alpha=0.1)\n",
    "\n",
    "probe= Grid(pos=[9,0,30], normal=[1,0,0], sx=5, sy=5, resx=6, resy=6)\n",
    "probe.color('k')\n",
    "\n",
    "stream = streamLines(domain, probe, direction='backwards')\n",
    "\n",
    "show(stream, probe, box, viewup='z')"
   ]
  },
  {
   "cell_type": "code",
   "execution_count": null,
   "metadata": {},
   "outputs": [],
   "source": []
  }
 ],
 "metadata": {
  "kernelspec": {
   "display_name": "Python 3",
   "language": "python",
   "name": "python3"
  },
  "language_info": {
   "codemirror_mode": {
    "name": "ipython",
    "version": 3
   },
   "file_extension": ".py",
   "mimetype": "text/x-python",
   "name": "python",
   "nbconvert_exporter": "python",
   "pygments_lexer": "ipython3",
   "version": "3.6.8"
  }
 },
 "nbformat": 4,
 "nbformat_minor": 2
}
